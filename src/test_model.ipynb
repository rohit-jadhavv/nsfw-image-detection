{
 "cells": [
  {
   "cell_type": "code",
   "execution_count": 2,
   "metadata": {},
   "outputs": [],
   "source": [
    "import tensorflow as tf\n",
    "import numpy as np\n",
    "import requests\n",
    "from PIL import Image\n",
    "from io import BytesIO"
   ]
  },
  {
   "cell_type": "code",
   "execution_count": 3,
   "metadata": {},
   "outputs": [],
   "source": [
    "model = tf.keras.models.load_model('../models/nsfw_model.h5')"
   ]
  },
  {
   "cell_type": "code",
   "execution_count": 4,
   "metadata": {},
   "outputs": [
    {
     "name": "stdout",
     "output_type": "stream",
     "text": [
      "Model: \"sequential_1\"\n",
      "_________________________________________________________________\n",
      " Layer (type)                Output Shape              Param #   \n",
      "=================================================================\n",
      " rescaling_1 (Rescaling)     (None, 180, 180, 3)       0         \n",
      "                                                                 \n",
      " conv2d_3 (Conv2D)           (None, 180, 180, 16)      448       \n",
      "                                                                 \n",
      " max_pooling2d_3 (MaxPooling  (None, 90, 90, 16)       0         \n",
      " 2D)                                                             \n",
      "                                                                 \n",
      " conv2d_4 (Conv2D)           (None, 90, 90, 32)        4640      \n",
      "                                                                 \n",
      " max_pooling2d_4 (MaxPooling  (None, 45, 45, 32)       0         \n",
      " 2D)                                                             \n",
      "                                                                 \n",
      " conv2d_5 (Conv2D)           (None, 45, 45, 64)        18496     \n",
      "                                                                 \n",
      " max_pooling2d_5 (MaxPooling  (None, 22, 22, 64)       0         \n",
      " 2D)                                                             \n",
      "                                                                 \n",
      " flatten_1 (Flatten)         (None, 30976)             0         \n",
      "                                                                 \n",
      " dense_2 (Dense)             (None, 128)               3965056   \n",
      "                                                                 \n",
      " dense_3 (Dense)             (None, 4)                 516       \n",
      "                                                                 \n",
      "=================================================================\n",
      "Total params: 3,989,156\n",
      "Trainable params: 3,989,156\n",
      "Non-trainable params: 0\n",
      "_________________________________________________________________\n"
     ]
    }
   ],
   "source": [
    "model.summary()\n",
    "\n",
    "class_names = ['hentai', 'neutral', 'porn', 'sexy']\n"
   ]
  },
  {
   "cell_type": "code",
   "execution_count": 9,
   "metadata": {},
   "outputs": [
    {
     "name": "stdout",
     "output_type": "stream",
     "text": [
      "1/1 [==============================] - 0s 13ms/step\n",
      "[[-2.9308267   5.8406587   0.47379217  3.8655174 ]]\n",
      "tf.Tensor([[1.3562235e-04 8.7445796e-01 4.0826150e-03 1.2132379e-01]], shape=(1, 4), dtype=float32)\n",
      "This image most likely belongs to neutral with a 87.45 percent confidence.\n",
      "1/1 [==============================] - 0s 20ms/step\n",
      "[[ 1.4725307  2.0503268 -1.7927464  3.773626 ]]\n",
      "tf.Tensor([[0.07809201 0.13916829 0.00298205 0.7797577 ]], shape=(1, 4), dtype=float32)\n",
      "This image most likely belongs to sexy with a 77.98 percent confidence.\n"
     ]
    }
   ],
   "source": [
    "image_urls = [\"https://buffer.com/cdn-cgi/image/w=1000,fit=contain,q=90,f=auto/library/content/images/size/w600/2023/10/free-images.jpg\", \"https://www.cleverfiles.com/howto/wp-content/uploads/2018/03/minion.jpg\"]\n",
    "\n",
    "count = 0\n",
    "for image_url in image_urls:\n",
    "\n",
    "    response = requests.get(image_url)\n",
    "\n",
    "    if response.status_code == 200:\n",
    "\n",
    "        image = tf.keras.utils.load_img(BytesIO(response.content), target_size=(180, 180))\n",
    "\n",
    "        img_array = tf.keras.utils.img_to_array(image)\n",
    "\n",
    "        img_tensor = tf.expand_dims(img_array, 0)\n",
    "\n",
    "        predictions = model.predict(img_tensor)\n",
    "        print(predictions)\n",
    "\n",
    "        score = tf.nn.softmax(predictions)\n",
    "        print(score)\n",
    "\n",
    "        print(\n",
    "        \"This image most likely belongs to {} with a {:.2f} percent confidence.\"\n",
    "        .format(class_names[np.argmax(score)], 100 * np.max(score))\n",
    "        )\n",
    "    count +=1\n",
    "\n",
    "\n",
    "\n",
    "\n",
    "    "
   ]
  },
  {
   "cell_type": "code",
   "execution_count": null,
   "metadata": {},
   "outputs": [],
   "source": []
  },
  {
   "cell_type": "code",
   "execution_count": null,
   "metadata": {},
   "outputs": [],
   "source": []
  }
 ],
 "metadata": {
  "kernelspec": {
   "display_name": "base",
   "language": "python",
   "name": "python3"
  },
  "language_info": {
   "codemirror_mode": {
    "name": "ipython",
    "version": 3
   },
   "file_extension": ".py",
   "mimetype": "text/x-python",
   "name": "python",
   "nbconvert_exporter": "python",
   "pygments_lexer": "ipython3",
   "version": "3.11.5"
  }
 },
 "nbformat": 4,
 "nbformat_minor": 2
}
